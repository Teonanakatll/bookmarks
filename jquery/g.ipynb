{
 "cells": [
  {
   "cell_type": "code",
   "execution_count": null,
   "metadata": {
    "collapsed": true,
    "pycharm": {
     "name": "#%%\n"
    }
   },
   "outputs": [],
   "source": [
    "{% block domready %}\n",
    "  $('a.like').click(function(e){\n",
    "    e.preventDefault();\n",
    "    // Передаём данные (id, action) пост запросом в функцию image_like\n",
    "    $.post('{% url \"images:like\" %}',\n",
    "      {\n",
    "        id: $(this).data('id'),\n",
    "        action: $(this).data('action')\n",
    "      },\n",
    "      function(data){\n",
    "        if (data['status'] == 'ok')\n",
    "          {\n",
    "            var previous_action = $('a.like').data('action');\n",
    "\n",
    "            // Изменяем переменную действия\n",
    "            $('a.like').data('action', previous_action == 'like' ? 'unlike' : 'like');\n",
    "            // Изменяем текст ссылки\n",
    "            $('a.like').text('previous_action == 'like' ? 'Unlike' : 'Like');\n",
    "            // Обновляем общее количество лайков\n",
    "            var previous_likes = parseInt($('span.count .total').text());\n",
    "            $('span.count .total').text(\n",
    "              previous_action == 'like' ? previous_likes + 1 : previous_likes - 1\n",
    "          );\n",
    "        }\n",
    "\n",
    "      );\n",
    "  });\n",
    "{% endblock %}"
   ]
  }
 ],
 "metadata": {
  "kernelspec": {
   "display_name": "Python 3",
   "language": "python",
   "name": "python3"
  },
  "language_info": {
   "codemirror_mode": {
    "name": "ipython",
    "version": 2
   },
   "file_extension": ".py",
   "mimetype": "text/x-python",
   "name": "python",
   "nbconvert_exporter": "python",
   "pygments_lexer": "ipython2",
   "version": "2.7.6"
  }
 },
 "nbformat": 4,
 "nbformat_minor": 0
}